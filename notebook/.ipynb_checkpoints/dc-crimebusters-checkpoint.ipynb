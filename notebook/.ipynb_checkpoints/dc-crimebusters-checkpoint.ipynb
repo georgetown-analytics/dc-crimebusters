{
 "cells": [
  {
   "cell_type": "markdown",
   "metadata": {},
   "source": [
    "# DC Crimebusters - Georgetown Data Analytics Certificate, Spring 2015"
   ]
  },
  {
   "cell_type": "markdown",
   "metadata": {},
   "source": [
    "DC Crimebusters set out to help users make knowledgeable decisions about their personal safety when taking Washington Metropolitan Area Transit Authority (WMATA) trains to their destinations. Riders have developed perceptions about Metro stops within the District based on anecdotal evidence and this analysis aims to support or disprove riders’ notions. The final product will be a mobile application in which users may enter their destination in Washington, DC and the time of travel, and our app will inform them of the relative safety of the destination neighborhood at that time. It will inform them which crimes to be most aware of and recommend taking a taxi or private car hire if the probability of being victimized exceeds a specified threshold."
   ]
  },
  {
   "cell_type": "code",
   "execution_count": 8,
   "metadata": {
    "collapsed": true
   },
   "outputs": [],
   "source": [
    "# Import data to be used for multiple regression\n",
    "%matplotlib inline\n",
    "import pandas as pd\n",
    "from pandas.tools.plotting import scatter_matrix\n",
    "from bokeh import plotting\n",
    "import numpy as np\n",
    "plotting.output_notebook()"
   ]
  },
  {
   "cell_type": "code",
   "execution_count": 9,
   "metadata": {
    "collapsed": false
   },
   "outputs": [
    {
     "data": {
      "text/html": [
       "<div style=\"max-height:1000px;max-width:1500px;overflow:auto;\">\n",
       "<table border=\"1\" class=\"dataframe\">\n",
       "  <thead>\n",
       "    <tr style=\"text-align: right;\">\n",
       "      <th></th>\n",
       "      <th>Avg_Dist_Metro_KM</th>\n",
       "      <th>Avg_Ridership</th>\n",
       "      <th>Avg_Percent_Public_Transit</th>\n",
       "      <th>Avg_Percent_Vacant_Houses</th>\n",
       "      <th>Avg_Percent_Below_Poverty</th>\n",
       "      <th>Avg_Median_Home_Value</th>\n",
       "      <th>AssaultRate</th>\n",
       "      <th>HomicideRate</th>\n",
       "      <th>RobberyRate</th>\n",
       "      <th>RapeRate</th>\n",
       "    </tr>\n",
       "  </thead>\n",
       "  <tbody>\n",
       "    <tr>\n",
       "      <th>count</th>\n",
       "      <td> 40.000000</td>\n",
       "      <td>    40.000000</td>\n",
       "      <td> 40.000000</td>\n",
       "      <td> 40.000000</td>\n",
       "      <td> 40.000000</td>\n",
       "      <td> 40.000000</td>\n",
       "      <td> 40.000000</td>\n",
       "      <td> 40.000000</td>\n",
       "      <td> 40.000000</td>\n",
       "      <td> 40.000000</td>\n",
       "    </tr>\n",
       "    <tr>\n",
       "      <th>mean</th>\n",
       "      <td>  0.675135</td>\n",
       "      <td> 10424.750000</td>\n",
       "      <td>  0.359130</td>\n",
       "      <td>  0.137428</td>\n",
       "      <td>  0.044706</td>\n",
       "      <td>  4.639665</td>\n",
       "      <td>  0.022227</td>\n",
       "      <td>  0.021429</td>\n",
       "      <td>  0.022775</td>\n",
       "      <td>  0.023366</td>\n",
       "    </tr>\n",
       "    <tr>\n",
       "      <th>std</th>\n",
       "      <td>  0.353901</td>\n",
       "      <td>  7948.993578</td>\n",
       "      <td>  0.067318</td>\n",
       "      <td>  0.056496</td>\n",
       "      <td>  0.051432</td>\n",
       "      <td>  1.725190</td>\n",
       "      <td>  0.028809</td>\n",
       "      <td>  0.034152</td>\n",
       "      <td>  0.024425</td>\n",
       "      <td>  0.023803</td>\n",
       "    </tr>\n",
       "    <tr>\n",
       "      <th>min</th>\n",
       "      <td>  0.175926</td>\n",
       "      <td>  1664.000000</td>\n",
       "      <td>  0.190672</td>\n",
       "      <td>  0.039486</td>\n",
       "      <td>  0.000000</td>\n",
       "      <td>  1.075000</td>\n",
       "      <td>  0.000000</td>\n",
       "      <td>  0.000000</td>\n",
       "      <td>  0.000303</td>\n",
       "      <td>  0.000000</td>\n",
       "    </tr>\n",
       "    <tr>\n",
       "      <th>25%</th>\n",
       "      <td>  0.374831</td>\n",
       "      <td>  5310.250000</td>\n",
       "      <td>  0.334080</td>\n",
       "      <td>  0.097404</td>\n",
       "      <td>  0.006529</td>\n",
       "      <td>  3.427251</td>\n",
       "      <td>  0.002836</td>\n",
       "      <td>  0.000000</td>\n",
       "      <td>  0.004162</td>\n",
       "      <td>  0.005719</td>\n",
       "    </tr>\n",
       "    <tr>\n",
       "      <th>50%</th>\n",
       "      <td>  0.571915</td>\n",
       "      <td>  7612.000000</td>\n",
       "      <td>  0.372541</td>\n",
       "      <td>  0.121354</td>\n",
       "      <td>  0.026295</td>\n",
       "      <td>  4.449858</td>\n",
       "      <td>  0.009034</td>\n",
       "      <td>  0.000000</td>\n",
       "      <td>  0.010593</td>\n",
       "      <td>  0.016340</td>\n",
       "    </tr>\n",
       "    <tr>\n",
       "      <th>75%</th>\n",
       "      <td>  0.955057</td>\n",
       "      <td> 11372.000000</td>\n",
       "      <td>  0.397369</td>\n",
       "      <td>  0.172988</td>\n",
       "      <td>  0.060091</td>\n",
       "      <td>  5.429757</td>\n",
       "      <td>  0.029412</td>\n",
       "      <td>  0.023810</td>\n",
       "      <td>  0.031174</td>\n",
       "      <td>  0.033497</td>\n",
       "    </tr>\n",
       "    <tr>\n",
       "      <th>max</th>\n",
       "      <td>  1.616392</td>\n",
       "      <td> 32465.000000</td>\n",
       "      <td>  0.469926</td>\n",
       "      <td>  0.292654</td>\n",
       "      <td>  0.213179</td>\n",
       "      <td>  8.670287</td>\n",
       "      <td>  0.127311</td>\n",
       "      <td>  0.123810</td>\n",
       "      <td>  0.087772</td>\n",
       "      <td>  0.107843</td>\n",
       "    </tr>\n",
       "  </tbody>\n",
       "</table>\n",
       "</div>"
      ],
      "text/plain": [
       "       Avg_Dist_Metro_KM  Avg_Ridership  Avg_Percent_Public_Transit  \\\n",
       "count          40.000000      40.000000                   40.000000   \n",
       "mean            0.675135   10424.750000                    0.359130   \n",
       "std             0.353901    7948.993578                    0.067318   \n",
       "min             0.175926    1664.000000                    0.190672   \n",
       "25%             0.374831    5310.250000                    0.334080   \n",
       "50%             0.571915    7612.000000                    0.372541   \n",
       "75%             0.955057   11372.000000                    0.397369   \n",
       "max             1.616392   32465.000000                    0.469926   \n",
       "\n",
       "       Avg_Percent_Vacant_Houses  Avg_Percent_Below_Poverty  \\\n",
       "count                  40.000000                  40.000000   \n",
       "mean                    0.137428                   0.044706   \n",
       "std                     0.056496                   0.051432   \n",
       "min                     0.039486                   0.000000   \n",
       "25%                     0.097404                   0.006529   \n",
       "50%                     0.121354                   0.026295   \n",
       "75%                     0.172988                   0.060091   \n",
       "max                     0.292654                   0.213179   \n",
       "\n",
       "       Avg_Median_Home_Value  AssaultRate  HomicideRate  RobberyRate  \\\n",
       "count              40.000000    40.000000     40.000000    40.000000   \n",
       "mean                4.639665     0.022227      0.021429     0.022775   \n",
       "std                 1.725190     0.028809      0.034152     0.024425   \n",
       "min                 1.075000     0.000000      0.000000     0.000303   \n",
       "25%                 3.427251     0.002836      0.000000     0.004162   \n",
       "50%                 4.449858     0.009034      0.000000     0.010593   \n",
       "75%                 5.429757     0.029412      0.023810     0.031174   \n",
       "max                 8.670287     0.127311      0.123810     0.087772   \n",
       "\n",
       "        RapeRate  \n",
       "count  40.000000  \n",
       "mean    0.023366  \n",
       "std     0.023803  \n",
       "min     0.000000  \n",
       "25%     0.005719  \n",
       "50%     0.016340  \n",
       "75%     0.033497  \n",
       "max     0.107843  "
      ]
     },
     "execution_count": 9,
     "metadata": {},
     "output_type": "execute_result"
    }
   ],
   "source": [
    "crime_summary = pd.read_csv(\"CrimeEventMultReg.csv\")\n",
    "\n",
    "#Crime events 2014 with calculated attributes\n",
    "all_events = pd.read_csv('CrimeEvents_CalculatedAttr.csv')\n",
    "\n",
    "# Summarize data\n",
    "\n",
    "crime_summary.describe()"
   ]
  },
  {
   "cell_type": "markdown",
   "metadata": {},
   "source": [
    "Run the regression in R..."
   ]
  },
  {
   "cell_type": "code",
   "execution_count": 13,
   "metadata": {
    "collapsed": false,
    "scrolled": true
   },
   "outputs": [
    {
     "data": {
      "text/html": [
       "<script type=\"text/javascript\">\n",
       "        Bokeh.$(function() {\n",
       "            var modelid = \"7101206f-7d93-42d9-94c6-e4066e667c98\";\n",
       "            var modeltype = \"Plot\";\n",
       "            var elementid = \"3a3986fa-7639-4362-ac99-e5bc112d1743\";\n",
       "            Bokeh.logger.info(\"Realizing plot:\")\n",
       "            Bokeh.logger.info(\" - modeltype: Plot\");\n",
       "            Bokeh.logger.info(\" - modelid: 7101206f-7d93-42d9-94c6-e4066e667c98\");\n",
       "            Bokeh.logger.info(\" - elementid: 3a3986fa-7639-4362-ac99-e5bc112d1743\");\n",
       "            var all_models = [{\"attributes\": {\"tags\": [], \"doc\": null, \"mantissas\": [2, 5, 10], \"id\": \"56ddebb6-0c1e-43b5-aeff-ad0d194df475\", \"num_minor_ticks\": 5}, \"type\": \"BasicTicker\", \"id\": \"56ddebb6-0c1e-43b5-aeff-ad0d194df475\"}, {\"attributes\": {\"sources\": [{\"source\": {\"type\": \"ColumnDataSource\", \"id\": \"623fb7f1-7199-4af9-978a-6b6c1bfc1c31\"}, \"columns\": [\"left\", \"right\"]}], \"tags\": [], \"doc\": null, \"id\": \"ebfc727f-dfae-4b00-b4d2-c69ffb974ae7\"}, \"type\": \"DataRange1d\", \"id\": \"ebfc727f-dfae-4b00-b4d2-c69ffb974ae7\"}, {\"attributes\": {\"line_color\": {\"value\": \"#1f77b4\"}, \"line_alpha\": {\"units\": \"data\", \"value\": 0.1}, \"right\": {\"units\": \"data\", \"field\": \"right\"}, \"fill_color\": {\"value\": \"#1f77b4\"}, \"bottom\": {\"units\": \"data\", \"value\": 0}, \"doc\": null, \"top\": {\"units\": \"data\", \"field\": \"top\"}, \"tags\": [], \"fill_alpha\": {\"units\": \"data\", \"value\": 0.1}, \"id\": \"b43efcd3-ba43-4977-983d-8ac41dadc9e6\", \"left\": {\"units\": \"data\", \"field\": \"left\"}}, \"type\": \"Quad\", \"id\": \"b43efcd3-ba43-4977-983d-8ac41dadc9e6\"}, {\"attributes\": {\"nonselection_glyph\": {\"type\": \"Quad\", \"id\": \"b43efcd3-ba43-4977-983d-8ac41dadc9e6\"}, \"data_source\": {\"type\": \"ColumnDataSource\", \"id\": \"623fb7f1-7199-4af9-978a-6b6c1bfc1c31\"}, \"name\": null, \"tags\": [], \"doc\": null, \"selection_glyph\": null, \"id\": \"bdf53f82-2f6b-4eaa-a6a0-9374fed3324a\", \"glyph\": {\"type\": \"Quad\", \"id\": \"6d6a5722-4458-4761-b2a7-72e366602ad1\"}}, \"type\": \"GlyphRenderer\", \"id\": \"bdf53f82-2f6b-4eaa-a6a0-9374fed3324a\"}, {\"attributes\": {\"plot\": {\"subtype\": \"Figure\", \"type\": \"Plot\", \"id\": \"7101206f-7d93-42d9-94c6-e4066e667c98\"}, \"tags\": [], \"doc\": null, \"id\": \"b60bf628-d0f2-42ec-81c5-35ed26954115\"}, \"type\": \"ResizeTool\", \"id\": \"b60bf628-d0f2-42ec-81c5-35ed26954115\"}, {\"attributes\": {\"doc\": null, \"id\": \"28a4215d-1e51-4da0-b5e0-42ad2c3d40c5\", \"tags\": []}, \"type\": \"BasicTickFormatter\", \"id\": \"28a4215d-1e51-4da0-b5e0-42ad2c3d40c5\"}, {\"attributes\": {\"plot\": {\"subtype\": \"Figure\", \"type\": \"Plot\", \"id\": \"7101206f-7d93-42d9-94c6-e4066e667c98\"}, \"tags\": [], \"doc\": null, \"axis_label\": \"Number of Crimes\", \"formatter\": {\"type\": \"BasicTickFormatter\", \"id\": \"aa135edc-22f3-43a5-a3c7-408f3895d2c2\"}, \"ticker\": {\"type\": \"BasicTicker\", \"id\": \"56ddebb6-0c1e-43b5-aeff-ad0d194df475\"}, \"id\": \"d722957a-e03f-4a03-8f30-e3e42fc8d011\"}, \"type\": \"LinearAxis\", \"id\": \"d722957a-e03f-4a03-8f30-e3e42fc8d011\"}, {\"subtype\": \"Figure\", \"type\": \"Plot\", \"id\": \"7101206f-7d93-42d9-94c6-e4066e667c98\", \"attributes\": {\"x_range\": {\"type\": \"DataRange1d\", \"id\": \"ebfc727f-dfae-4b00-b4d2-c69ffb974ae7\"}, \"right\": [], \"tags\": [], \"tools\": [{\"type\": \"PanTool\", \"id\": \"ff6c55b7-e8d8-49a4-ad5e-c5c3521a9e27\"}, {\"type\": \"WheelZoomTool\", \"id\": \"e14830c1-686a-47c8-a571-7fb65b6e5bc2\"}, {\"type\": \"BoxZoomTool\", \"id\": \"43638dc8-b497-4ed1-90ca-ead55bb72e57\"}, {\"type\": \"PreviewSaveTool\", \"id\": \"6d8949ef-cde1-408c-a273-c9e3696802ab\"}, {\"type\": \"ResizeTool\", \"id\": \"b60bf628-d0f2-42ec-81c5-35ed26954115\"}, {\"type\": \"ResetTool\", \"id\": \"4892bdaf-c89f-4093-8525-ceeccdfd814e\"}], \"title\": \"Crime and Distance From Metro Stations\", \"extra_y_ranges\": {}, \"renderers\": [{\"type\": \"LinearAxis\", \"id\": \"cfd7ec21-8991-488d-b3ef-52847127917a\"}, {\"type\": \"Grid\", \"id\": \"c596ed5d-a6f6-4652-b4af-ed9271cf90b7\"}, {\"type\": \"LinearAxis\", \"id\": \"d722957a-e03f-4a03-8f30-e3e42fc8d011\"}, {\"type\": \"Grid\", \"id\": \"e7a6ca5d-d104-4077-a007-0bd505e36514\"}, {\"type\": \"GlyphRenderer\", \"id\": \"bdf53f82-2f6b-4eaa-a6a0-9374fed3324a\"}], \"extra_x_ranges\": {}, \"below\": [{\"type\": \"LinearAxis\", \"id\": \"cfd7ec21-8991-488d-b3ef-52847127917a\"}], \"tool_events\": {\"type\": \"ToolEvents\", \"id\": \"ae888a9d-12fb-4cee-88ca-834c017d9e05\"}, \"above\": [], \"doc\": null, \"background_fill\": \"#E8DDCB\", \"y_range\": {\"type\": \"DataRange1d\", \"id\": \"7b08f950-2f05-4b60-be2e-1ba6b6f6d25c\"}, \"id\": \"7101206f-7d93-42d9-94c6-e4066e667c98\", \"left\": [{\"type\": \"LinearAxis\", \"id\": \"d722957a-e03f-4a03-8f30-e3e42fc8d011\"}]}}, {\"attributes\": {\"plot\": {\"subtype\": \"Figure\", \"type\": \"Plot\", \"id\": \"7101206f-7d93-42d9-94c6-e4066e667c98\"}, \"tags\": [], \"doc\": null, \"axis_label\": \"Distance From Metro (KM)\", \"formatter\": {\"type\": \"BasicTickFormatter\", \"id\": \"28a4215d-1e51-4da0-b5e0-42ad2c3d40c5\"}, \"ticker\": {\"type\": \"BasicTicker\", \"id\": \"d393142d-c802-476f-9fa1-a6fdf5d739a1\"}, \"id\": \"cfd7ec21-8991-488d-b3ef-52847127917a\"}, \"type\": \"LinearAxis\", \"id\": \"cfd7ec21-8991-488d-b3ef-52847127917a\"}, {\"attributes\": {\"tags\": [], \"doc\": null, \"mantissas\": [2, 5, 10], \"id\": \"d393142d-c802-476f-9fa1-a6fdf5d739a1\", \"num_minor_ticks\": 5}, \"type\": \"BasicTicker\", \"id\": \"d393142d-c802-476f-9fa1-a6fdf5d739a1\"}, {\"attributes\": {\"plot\": {\"subtype\": \"Figure\", \"type\": \"Plot\", \"id\": \"7101206f-7d93-42d9-94c6-e4066e667c98\"}, \"dimensions\": [\"width\", \"height\"], \"tags\": [], \"doc\": null, \"id\": \"43638dc8-b497-4ed1-90ca-ead55bb72e57\"}, \"type\": \"BoxZoomTool\", \"id\": \"43638dc8-b497-4ed1-90ca-ead55bb72e57\"}, {\"attributes\": {\"sources\": [{\"source\": {\"type\": \"ColumnDataSource\", \"id\": \"623fb7f1-7199-4af9-978a-6b6c1bfc1c31\"}, \"columns\": [\"top\"]}], \"tags\": [], \"doc\": null, \"id\": \"7b08f950-2f05-4b60-be2e-1ba6b6f6d25c\"}, \"type\": \"DataRange1d\", \"id\": \"7b08f950-2f05-4b60-be2e-1ba6b6f6d25c\"}, {\"attributes\": {\"plot\": {\"subtype\": \"Figure\", \"type\": \"Plot\", \"id\": \"7101206f-7d93-42d9-94c6-e4066e667c98\"}, \"tags\": [], \"doc\": null, \"id\": \"6d8949ef-cde1-408c-a273-c9e3696802ab\"}, \"type\": \"PreviewSaveTool\", \"id\": \"6d8949ef-cde1-408c-a273-c9e3696802ab\"}, {\"attributes\": {\"plot\": {\"subtype\": \"Figure\", \"type\": \"Plot\", \"id\": \"7101206f-7d93-42d9-94c6-e4066e667c98\"}, \"dimensions\": [\"width\", \"height\"], \"tags\": [], \"doc\": null, \"id\": \"e14830c1-686a-47c8-a571-7fb65b6e5bc2\"}, \"type\": \"WheelZoomTool\", \"id\": \"e14830c1-686a-47c8-a571-7fb65b6e5bc2\"}, {\"attributes\": {\"plot\": {\"subtype\": \"Figure\", \"type\": \"Plot\", \"id\": \"7101206f-7d93-42d9-94c6-e4066e667c98\"}, \"tags\": [], \"doc\": null, \"id\": \"4892bdaf-c89f-4093-8525-ceeccdfd814e\"}, \"type\": \"ResetTool\", \"id\": \"4892bdaf-c89f-4093-8525-ceeccdfd814e\"}, {\"attributes\": {\"doc\": null, \"id\": \"aa135edc-22f3-43a5-a3c7-408f3895d2c2\", \"tags\": []}, \"type\": \"BasicTickFormatter\", \"id\": \"aa135edc-22f3-43a5-a3c7-408f3895d2c2\"}, {\"attributes\": {\"plot\": {\"subtype\": \"Figure\", \"type\": \"Plot\", \"id\": \"7101206f-7d93-42d9-94c6-e4066e667c98\"}, \"dimensions\": [\"width\", \"height\"], \"tags\": [], \"doc\": null, \"id\": \"ff6c55b7-e8d8-49a4-ad5e-c5c3521a9e27\"}, \"type\": \"PanTool\", \"id\": \"ff6c55b7-e8d8-49a4-ad5e-c5c3521a9e27\"}, {\"attributes\": {\"plot\": {\"subtype\": \"Figure\", \"type\": \"Plot\", \"id\": \"7101206f-7d93-42d9-94c6-e4066e667c98\"}, \"tags\": [], \"doc\": null, \"dimension\": 0, \"ticker\": {\"type\": \"BasicTicker\", \"id\": \"d393142d-c802-476f-9fa1-a6fdf5d739a1\"}, \"id\": \"c596ed5d-a6f6-4652-b4af-ed9271cf90b7\"}, \"type\": \"Grid\", \"id\": \"c596ed5d-a6f6-4652-b4af-ed9271cf90b7\"}, {\"attributes\": {\"line_color\": {\"value\": \"#033649\"}, \"line_alpha\": {\"units\": \"data\", \"value\": 1.0}, \"right\": {\"units\": \"data\", \"field\": \"right\"}, \"fill_color\": {\"value\": \"#036564\"}, \"bottom\": {\"units\": \"data\", \"value\": 0}, \"doc\": null, \"top\": {\"units\": \"data\", \"field\": \"top\"}, \"tags\": [], \"fill_alpha\": {\"units\": \"data\", \"value\": 1.0}, \"id\": \"6d6a5722-4458-4761-b2a7-72e366602ad1\", \"left\": {\"units\": \"data\", \"field\": \"left\"}}, \"type\": \"Quad\", \"id\": \"6d6a5722-4458-4761-b2a7-72e366602ad1\"}, {\"attributes\": {\"column_names\": [\"left\", \"right\", \"top\"], \"tags\": [], \"doc\": null, \"selected\": [], \"data\": {\"top\": [4483, 6913, 5922, 4449, 3897, 2840, 2705, 2047, 1553, 1184, 727, 533, 255, 310, 151, 158, 25, 8, 1, 7], \"right\": [0.21576030273450003, 0.43152060546900006, 0.6472809082035, 0.8630412109380001, 1.0788015136725002, 1.294561816407, 1.5103221191415002, 1.7260824218760003, 1.9418427246105003, 2.1576030273450004, 2.3733633300795005, 2.589123632814, 2.8048839355485002, 3.0206442382830003, 3.2364045410175004, 3.4521648437520005, 3.6679251464865006, 3.8836854492210007, 4.099445751955501, 4.315206054690001], \"left\": [0.0, 0.21576030273450003, 0.43152060546900006, 0.6472809082035, 0.8630412109380001, 1.0788015136725002, 1.294561816407, 1.5103221191415002, 1.7260824218760003, 1.9418427246105003, 2.1576030273450004, 2.3733633300795005, 2.589123632814, 2.8048839355485002, 3.0206442382830003, 3.2364045410175004, 3.4521648437520005, 3.6679251464865006, 3.8836854492210007, 4.099445751955501]}, \"id\": \"623fb7f1-7199-4af9-978a-6b6c1bfc1c31\"}, \"type\": \"ColumnDataSource\", \"id\": \"623fb7f1-7199-4af9-978a-6b6c1bfc1c31\"}, {\"attributes\": {\"plot\": {\"subtype\": \"Figure\", \"type\": \"Plot\", \"id\": \"7101206f-7d93-42d9-94c6-e4066e667c98\"}, \"tags\": [], \"doc\": null, \"dimension\": 1, \"ticker\": {\"type\": \"BasicTicker\", \"id\": \"56ddebb6-0c1e-43b5-aeff-ad0d194df475\"}, \"id\": \"e7a6ca5d-d104-4077-a007-0bd505e36514\"}, \"type\": \"Grid\", \"id\": \"e7a6ca5d-d104-4077-a007-0bd505e36514\"}, {\"attributes\": {\"geometries\": [], \"tags\": [], \"doc\": null, \"id\": \"ae888a9d-12fb-4cee-88ca-834c017d9e05\"}, \"type\": \"ToolEvents\", \"id\": \"ae888a9d-12fb-4cee-88ca-834c017d9e05\"}];\n",
       "            Bokeh.load_models(all_models);\n",
       "            var model = Bokeh.Collections(modeltype).get(modelid);\n",
       "            var view = new model.default_view({model: model, el: '#3a3986fa-7639-4362-ac99-e5bc112d1743'});\n",
       "            Bokeh.index[modelid] = view\n",
       "        });\n",
       "    </script>\n",
       "<div class=\"plotdiv\" id=\"3a3986fa-7639-4362-ac99-e5bc112d1743\"></div>\n",
       "\n"
      ]
     },
     "metadata": {},
     "output_type": "display_data"
    }
   ],
   "source": [
    "#make a histogram showing dist from metro\n",
    "hist, edges = np.histogram(all_events['Distance from metro KM'], bins=20)\n",
    "distance_histogram = plotting.figure(title=\"Crime and Distance From Metro Stations\",\n",
    "                                     background_fill='#E8DDCB')\n",
    "distance_histogram.yaxis.axis_label = \"Number of Crimes\"\n",
    "distance_histogram.xaxis.axis_label = \"Distance From Metro (KM)\"\n",
    "distance_histogram.quad(top=hist, bottom=0, left=edges[:-1], right=edges[1:],\n",
    "                        fill_color=\"#036564\", line_color=\"#033649\")\n",
    "\n",
    "plotting.show(distance_histogram)"
   ]
  },
  {
   "cell_type": "code",
   "execution_count": 18,
   "metadata": {
    "collapsed": false
   },
   "outputs": [
    {
     "ename": "AttributeError",
     "evalue": "'str' object has no attribute 'remove'",
     "output_type": "error",
     "traceback": [
      "\u001b[1;31m---------------------------------------------------------------------------\u001b[0m",
      "\u001b[1;31mAttributeError\u001b[0m                            Traceback (most recent call last)",
      "\u001b[1;32m<ipython-input-18-bed72c2b0e80>\u001b[0m in \u001b[0;36m<module>\u001b[1;34m()\u001b[0m\n\u001b[1;32m----> 1\u001b[1;33m \u001b[0madded_cols\u001b[0m\u001b[1;33m[\u001b[0m\u001b[1;36m0\u001b[0m\u001b[1;33m]\u001b[0m\u001b[1;33m.\u001b[0m\u001b[0mremove\u001b[0m\u001b[1;33m(\u001b[0m\u001b[1;34mu'Sum Long Commute'\u001b[0m\u001b[1;33m)\u001b[0m\u001b[1;33m\u001b[0m\u001b[0m\n\u001b[0m",
      "\u001b[1;31mAttributeError\u001b[0m: 'str' object has no attribute 'remove'"
     ]
    }
   ],
   "source": []
  },
  {
   "cell_type": "code",
   "execution_count": 9,
   "metadata": {
    "collapsed": false
   },
   "outputs": [
    {
     "name": "stdout",
     "output_type": "stream",
     "text": [
      "Populating the interactive namespace from numpy and matplotlib\n",
      "The rpy2.ipython extension is already loaded. To reload it, use:\n",
      "  %reload_ext rpy2.ipython\n"
     ]
    },
    {
     "data": {
      "text/plain": [
       "<ListVector - Python:0x10a6e7908 / R:0x10890ebf0>\n",
       "[Float..., Array, Array, ..., Vector, Formula, DataF...]\n",
       "  coefficients: <class 'rpy2.robjects.vectors.FloatVector'>\n",
       "  <FloatVector - Python:0x10a6f33b0 / R:0x108475950>\n",
       "[-0.012405, 0.029163, 0.000000, ..., 0.015429, 0.247343, -0.000611]\n",
       "  residuals: <class 'rpy2.robjects.vectors.Array'>\n",
       "  <Array - Python:0x10a633fc8 / R:0x10a14eee0>\n",
       "[-0.022922, -0.000004, 0.017131, ..., -0.012065, -0.013255, -0.010495]\n",
       "  effects: <class 'rpy2.robjects.vectors.Array'>\n",
       "  <Array - Python:0x10a633ef0 / R:0x10a14f330>\n",
       "[-0.147780, 0.097167, 0.000879, ..., -0.007381, -0.008693, -0.008703]\n",
       "  ...\n",
       "  coefficients: <class 'rpy2.robjects.vectors.Vector'>\n",
       "  <Vector - Python:0x10a633c68 / R:0x100bdfb08>\n",
       "[RNULLType, Vector]\n",
       "  residuals: <class 'rpy2.robjects.Formula'>\n",
       "  <Formula - Python:0x10a633b00 / R:0x101bcfcb0>\n",
       "<ListVector - Python:0x10a6e7908 / R:0x10890ebf0>\n",
       "[Float..., Array, Array, ..., Vector, Formula, DataF...]"
      ]
     },
     "execution_count": 9,
     "metadata": {},
     "output_type": "execute_result"
    }
   ],
   "source": [
    "# Make sure you have run \"pip install rpy2\" on the command line prior to running this code\n",
    "\n",
    "%pylab inline\n",
    "%load_ext rpy2.ipython\n",
    "\n",
    "AssaultRate = crime_summary['AssaultRate']\n",
    "HomicideRate = crime_summary['HomicideRate']\n",
    "RobberyRate = crime_summary['RobberyRate']\n",
    "RapeRate = crime_summary['RapeRate']\n",
    "\n",
    "Avg_Dist_Metro_KM = crime_summary['Avg_Dist_Metro_KM']\n",
    "Avg_Ridership = crime_summary['Avg_Ridership']\n",
    "Avg_Percent_Public_Transit = crime_summary['Avg_Percent_Public_Transit']\n",
    "Avg_Percent_Vacant_Houses = crime_summary['Avg_Percent_Vacant_Houses']\n",
    "Avg_Percent_Below_Poverty = crime_summary['Avg_Percent_Below_Poverty']\n",
    "Avg_Median_Home_Value = crime_summary['Avg_Median_Home_Value']\n",
    "\n",
    "%Rpush AssaultRate HomicideRate RobberyRate RapeRate Avg_Dist_Metro_KM Avg_Ridership Avg_Percent_Public_Transit Avg_Percent_Vacant_Houses Avg_Percent_Below_Poverty Avg_Median_Home_Value \n",
    "%R assault_model <- lm(AssaultRate ~ Avg_Dist_Metro_KM + Avg_Ridership + Avg_Percent_Public_Transit + Avg_Percent_Vacant_Houses + Avg_Percent_Below_Poverty + Avg_Median_Home_Value)\n",
    "%R homicide_model <- lm(HomicideRate ~ Avg_Dist_Metro_KM + Avg_Ridership + Avg_Percent_Public_Transit + Avg_Percent_Vacant_Houses + Avg_Percent_Below_Poverty + Avg_Median_Home_Value)\n",
    "%R robbery_model <- lm(RobberyRate ~ Avg_Dist_Metro_KM + Avg_Ridership + Avg_Percent_Public_Transit + Avg_Percent_Vacant_Houses + Avg_Percent_Below_Poverty + Avg_Median_Home_Value)\n",
    "%R rape_model <- lm(RapeRate ~ Avg_Dist_Metro_KM + Avg_Ridership + Avg_Percent_Public_Transit + Avg_Percent_Vacant_Houses + Avg_Percent_Below_Poverty + Avg_Median_Home_Value)"
   ]
  },
  {
   "cell_type": "markdown",
   "metadata": {},
   "source": [
    "The summary of the linear model for assaults shows that average distance to metro and average percent below the poverty line are related to the assault rate."
   ]
  },
  {
   "cell_type": "code",
   "execution_count": 10,
   "metadata": {
    "collapsed": false
   },
   "outputs": [
    {
     "data": {
      "text/plain": [
       "\n",
       "Call:\n",
       "lm(formula = AssaultRate ~ Avg_Dist_Metro_KM + Avg_Ridership + \n",
       "    Avg_Percent_Public_Transit + Avg_Percent_Vacant_Houses + \n",
       "    Avg_Percent_Below_Poverty + Avg_Median_Home_Value)\n",
       "\n",
       "Residuals:\n",
       "      Min        1Q    Median        3Q       Max \n",
       "-0.028542 -0.009680 -0.002397  0.008812  0.029578 \n",
       "\n",
       "Coefficients:\n",
       "                             Estimate Std. Error t value Pr(>|t|)    \n",
       "(Intercept)                -4.073e-02  3.448e-02  -1.181 0.245966    \n",
       "Avg_Dist_Metro_KM           3.976e-02  1.050e-02   3.786 0.000616 ***\n",
       "Avg_Ridership               2.869e-07  4.012e-07   0.715 0.479639    \n",
       "Avg_Percent_Public_Transit  4.308e-02  5.441e-02   0.792 0.434092    \n",
       "Avg_Percent_Vacant_Houses   9.884e-02  6.584e-02   1.501 0.142827    \n",
       "Avg_Percent_Below_Poverty   2.449e-01  8.061e-02   3.039 0.004623 ** \n",
       "Avg_Median_Home_Value      -1.483e-03  2.333e-03  -0.636 0.529296    \n",
       "---\n",
       "Signif. codes:  0 ‘***’ 0.001 ‘**’ 0.01 ‘*’ 0.05 ‘.’ 0.1 ‘ ’ 1\n",
       "\n",
       "Residual standard error: 0.0157 on 33 degrees of freedom\n",
       "Multiple R-squared:  0.7488,\tAdjusted R-squared:  0.7031 \n",
       "F-statistic: 16.39 on 6 and 33 DF,  p-value: 1.19e-08\n",
       "\n"
      ]
     },
     "metadata": {},
     "output_type": "display_data"
    }
   ],
   "source": [
    "%R print(summary(assault_model))"
   ]
  },
  {
   "cell_type": "markdown",
   "metadata": {},
   "source": [
    "The summary of the linear model for homicides shows that the average percent below the poverty line is related to the homicide rate."
   ]
  },
  {
   "cell_type": "code",
   "execution_count": 11,
   "metadata": {
    "collapsed": false
   },
   "outputs": [
    {
     "data": {
      "text/plain": [
       "\n",
       "Call:\n",
       "lm(formula = HomicideRate ~ Avg_Dist_Metro_KM + Avg_Ridership + \n",
       "    Avg_Percent_Public_Transit + Avg_Percent_Vacant_Houses + \n",
       "    Avg_Percent_Below_Poverty + Avg_Median_Home_Value)\n",
       "\n",
       "Residuals:\n",
       "      Min        1Q    Median        3Q       Max \n",
       "-0.025402 -0.010804 -0.000566  0.007486  0.041529 \n",
       "\n",
       "Coefficients:\n",
       "                             Estimate Std. Error t value Pr(>|t|)    \n",
       "(Intercept)                -6.937e-02  3.605e-02  -1.924    0.063 .  \n",
       "Avg_Dist_Metro_KM           1.051e-02  1.098e-02   0.957    0.346    \n",
       "Avg_Ridership               4.098e-07  4.195e-07   0.977    0.336    \n",
       "Avg_Percent_Public_Transit  6.638e-02  5.688e-02   1.167    0.252    \n",
       "Avg_Percent_Vacant_Houses   1.106e-01  6.884e-02   1.606    0.118    \n",
       "Avg_Percent_Below_Poverty   5.851e-01  8.428e-02   6.942 6.21e-08 ***\n",
       "Avg_Median_Home_Value       3.071e-03  2.439e-03   1.259    0.217    \n",
       "---\n",
       "Signif. codes:  0 ‘***’ 0.001 ‘**’ 0.01 ‘*’ 0.05 ‘.’ 0.1 ‘ ’ 1\n",
       "\n",
       "Residual standard error: 0.01641 on 33 degrees of freedom\n",
       "Multiple R-squared:  0.8046,\tAdjusted R-squared:  0.7691 \n",
       "F-statistic: 22.65 on 6 and 33 DF,  p-value: 2.152e-10\n",
       "\n"
      ]
     },
     "metadata": {},
     "output_type": "display_data"
    }
   ],
   "source": [
    "%R print(summary(homicide_model))"
   ]
  },
  {
   "cell_type": "markdown",
   "metadata": {},
   "source": [
    "The summary of the linear model for robberies shows that average distance to metro and average percent below the poverty line are related to the assault rate."
   ]
  },
  {
   "cell_type": "code",
   "execution_count": 12,
   "metadata": {
    "collapsed": false
   },
   "outputs": [
    {
     "data": {
      "text/plain": [
       "\n",
       "Call:\n",
       "lm(formula = RobberyRate ~ Avg_Dist_Metro_KM + Avg_Ridership + \n",
       "    Avg_Percent_Public_Transit + Avg_Percent_Vacant_Houses + \n",
       "    Avg_Percent_Below_Poverty + Avg_Median_Home_Value)\n",
       "\n",
       "Residuals:\n",
       "      Min        1Q    Median        3Q       Max \n",
       "-0.025861 -0.012134 -0.001541  0.010073  0.038742 \n",
       "\n",
       "Coefficients:\n",
       "                             Estimate Std. Error t value Pr(>|t|)  \n",
       "(Intercept)                -2.825e-02  3.635e-02  -0.777   0.4425  \n",
       "Avg_Dist_Metro_KM           2.701e-02  1.107e-02   2.439   0.0203 *\n",
       "Avg_Ridership               1.669e-07  4.230e-07   0.395   0.6956  \n",
       "Avg_Percent_Public_Transit  5.304e-02  5.736e-02   0.925   0.3618  \n",
       "Avg_Percent_Vacant_Houses   4.528e-02  6.941e-02   0.652   0.5187  \n",
       "Avg_Percent_Below_Poverty   1.996e-01  8.498e-02   2.348   0.0250 *\n",
       "Avg_Median_Home_Value      -6.760e-04  2.459e-03  -0.275   0.7851  \n",
       "---\n",
       "Signif. codes:  0 ‘***’ 0.001 ‘**’ 0.01 ‘*’ 0.05 ‘.’ 0.1 ‘ ’ 1\n",
       "\n",
       "Residual standard error: 0.01655 on 33 degrees of freedom\n",
       "Multiple R-squared:  0.6116,\tAdjusted R-squared:  0.541 \n",
       "F-statistic:  8.66 on 6 and 33 DF,  p-value: 1.089e-05\n",
       "\n"
      ]
     },
     "metadata": {},
     "output_type": "display_data"
    }
   ],
   "source": [
    "%R print(summary(robbery_model))"
   ]
  },
  {
   "cell_type": "markdown",
   "metadata": {},
   "source": [
    "The summary of the linear model for rape shows that average distance to metro and average percent below the poverty line are related to the assault rate."
   ]
  },
  {
   "cell_type": "code",
   "execution_count": 13,
   "metadata": {
    "collapsed": false
   },
   "outputs": [
    {
     "data": {
      "text/plain": [
       "\n",
       "Call:\n",
       "lm(formula = RapeRate ~ Avg_Dist_Metro_KM + Avg_Ridership + Avg_Percent_Public_Transit + \n",
       "    Avg_Percent_Vacant_Houses + Avg_Percent_Below_Poverty + Avg_Median_Home_Value)\n",
       "\n",
       "Residuals:\n",
       "      Min        1Q    Median        3Q       Max \n",
       "-0.022922 -0.011665 -0.000735  0.007573  0.034482 \n",
       "\n",
       "Coefficients:\n",
       "                             Estimate Std. Error t value Pr(>|t|)   \n",
       "(Intercept)                -1.241e-02  3.320e-02  -0.374  0.71108   \n",
       "Avg_Dist_Metro_KM           2.916e-02  1.011e-02   2.884  0.00687 **\n",
       "Avg_Ridership               4.005e-07  3.864e-07   1.036  0.30751   \n",
       "Avg_Percent_Public_Transit  4.362e-03  5.239e-02   0.083  0.93415   \n",
       "Avg_Percent_Vacant_Houses   1.543e-02  6.340e-02   0.243  0.80925   \n",
       "Avg_Percent_Below_Poverty   2.473e-01  7.763e-02   3.186  0.00314 **\n",
       "Avg_Median_Home_Value      -6.114e-04  2.247e-03  -0.272  0.78721   \n",
       "---\n",
       "Signif. codes:  0 ‘***’ 0.001 ‘**’ 0.01 ‘*’ 0.05 ‘.’ 0.1 ‘ ’ 1\n",
       "\n",
       "Residual standard error: 0.01512 on 33 degrees of freedom\n",
       "Multiple R-squared:  0.6587,\tAdjusted R-squared:  0.5967 \n",
       "F-statistic: 10.62 on 6 and 33 DF,  p-value: 1.472e-06\n",
       "\n"
      ]
     },
     "metadata": {},
     "output_type": "display_data"
    }
   ],
   "source": [
    "%R print(summary(rape_model))"
   ]
  },
  {
   "cell_type": "code",
   "execution_count": 1,
   "metadata": {
    "collapsed": false
   },
   "outputs": [
    {
     "data": {
      "text/html": [
       "<iframe width=\"940\" height=\"600\" frameborder=\"0\" scrolling=\"no\" marginheight=\"0\" marginwidth=\"0\" src=\"http://www.arcgis.com/apps/Embed/index.html?webmap=c84cfb5536f540ac810cd7d7860d99e5&amp;extent=-77.2227,38.8097,-76.8182,38.9866&amp;home=true&amp;zoom=true&amp;scale=true&amp;legend=true&amp;theme=light\"></iframe>"
      ],
      "text/plain": [
       "<IPython.core.display.HTML object>"
      ]
     },
     "metadata": {},
     "output_type": "display_data"
    }
   ],
   "source": [
    "%%html\n",
    "<iframe width=\"940\" height=\"600\" frameborder=\"0\" scrolling=\"no\" marginheight=\"0\" marginwidth=\"0\" src=\"http://www.arcgis.com/apps/Embed/index.html?webmap=c84cfb5536f540ac810cd7d7860d99e5&amp;extent=-77.2227,38.8097,-76.8182,38.9866&amp;home=true&amp;zoom=true&amp;scale=true&amp;legend=true&amp;theme=light\"></iframe>"
   ]
  },
  {
   "cell_type": "code",
   "execution_count": null,
   "metadata": {
    "collapsed": true
   },
   "outputs": [],
   "source": []
  }
 ],
 "metadata": {
  "kernelspec": {
   "display_name": "Python 2",
   "language": "python",
   "name": "python2"
  },
  "language_info": {
   "codemirror_mode": {
    "name": "ipython",
    "version": 2
   },
   "file_extension": ".py",
   "mimetype": "text/x-python",
   "name": "python",
   "nbconvert_exporter": "python",
   "pygments_lexer": "ipython2",
   "version": "2.7.8"
  }
 },
 "nbformat": 4,
 "nbformat_minor": 0
}
