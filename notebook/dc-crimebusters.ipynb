{
 "cells": [
  {
   "cell_type": "markdown",
   "metadata": {},
   "source": [
    "# DC Crimebusters - Georgetown Data Analytics Certificate, Spring 2015"
   ]
  },
  {
   "cell_type": "markdown",
   "metadata": {},
   "source": [
    "DC Crimebusters set out to help users make knowledgeable decisions about their personal safety when taking Washington Metropolitan Area Transit Authority (WMATA) trains to their destinations. Riders have developed perceptions about Metro stops within the District based on anecdotal evidence and this analysis aims to support or disprove riders’ notions. The final product will be a mobile application in which users may enter their destination in Washington, DC and the time of travel, and our app will inform them of the relative safety of the destination neighborhood at that time. It will inform them which crimes to be most aware of and recommend taking a taxi or private car hire if the probability of being victimized exceeds a specified threshold."
   ]
  },
  {
   "cell_type": "markdown",
   "metadata": {},
   "source": [
    "### Data Exploration:\n",
    "Before conducting analyses such as the regression or classification of the data, we considered the main features of the data set. In order to do this, we gathered the summary statistics of the data set. In particular, we were interested in the types and quantities of offenses occuring in DC. "
   ]
  },
  {
   "cell_type": "code",
   "execution_count": null,
   "metadata": {
    "collapsed": true
   },
   "outputs": [],
   "source": [
    "%%R metro_data <- "
   ]
  },
  {
   "cell_type": "markdown",
   "metadata": {},
   "source": [
    "In the image below, we can see the breakdown of crimes by metro stations:\n",
    "\n",
    "<img src=\"Crime_Neighbor.jpg\">\n",
    "\n",
    "From this graph, we can verify that the offenses which occur most frequently in DC are \"THEFT F/AUTO\" and \"THEFT/OTHER\". \n",
    "\n",
    "To better understand where these crimes occured, we use geographical coordinates to map each crime event onto a map of DC, colored according to each neighboorhood:\n",
    "\n",
    "<img src=\"Crime in Neighborhoods_2.jpg\">"
   ]
  },
  {
   "cell_type": "code",
   "execution_count": 2,
   "metadata": {
    "collapsed": false
   },
   "outputs": [
    {
     "data": {
      "text/html": [
       "<div style=\"max-height:1000px;max-width:1500px;overflow:auto;\">\n",
       "<table border=\"1\" class=\"dataframe\">\n",
       "  <thead>\n",
       "    <tr style=\"text-align: right;\">\n",
       "      <th></th>\n",
       "      <th>Avg_Dist_Metro_KM</th>\n",
       "      <th>Avg_Ridership</th>\n",
       "      <th>Avg_Percent_Public_Transit</th>\n",
       "      <th>Avg_Percent_Vacant_Houses</th>\n",
       "      <th>Avg_Percent_Below_Poverty</th>\n",
       "      <th>Avg_Median_Home_Value</th>\n",
       "      <th>AssaultRate</th>\n",
       "      <th>HomicideRate</th>\n",
       "      <th>RobberyRate</th>\n",
       "      <th>RapeRate</th>\n",
       "    </tr>\n",
       "  </thead>\n",
       "  <tbody>\n",
       "    <tr>\n",
       "      <th>count</th>\n",
       "      <td> 40.000000</td>\n",
       "      <td>    40.000000</td>\n",
       "      <td> 40.000000</td>\n",
       "      <td> 40.000000</td>\n",
       "      <td> 40.000000</td>\n",
       "      <td> 40.000000</td>\n",
       "      <td> 40.000000</td>\n",
       "      <td> 40.000000</td>\n",
       "      <td> 40.000000</td>\n",
       "      <td> 40.000000</td>\n",
       "    </tr>\n",
       "    <tr>\n",
       "      <th>mean</th>\n",
       "      <td>  0.675135</td>\n",
       "      <td> 10424.750000</td>\n",
       "      <td>  0.359130</td>\n",
       "      <td>  0.137428</td>\n",
       "      <td>  0.044706</td>\n",
       "      <td>  4.639665</td>\n",
       "      <td>  0.022227</td>\n",
       "      <td>  0.021429</td>\n",
       "      <td>  0.022775</td>\n",
       "      <td>  0.023366</td>\n",
       "    </tr>\n",
       "    <tr>\n",
       "      <th>std</th>\n",
       "      <td>  0.353901</td>\n",
       "      <td>  7948.993578</td>\n",
       "      <td>  0.067318</td>\n",
       "      <td>  0.056496</td>\n",
       "      <td>  0.051432</td>\n",
       "      <td>  1.725190</td>\n",
       "      <td>  0.028809</td>\n",
       "      <td>  0.034152</td>\n",
       "      <td>  0.024425</td>\n",
       "      <td>  0.023803</td>\n",
       "    </tr>\n",
       "    <tr>\n",
       "      <th>min</th>\n",
       "      <td>  0.175926</td>\n",
       "      <td>  1664.000000</td>\n",
       "      <td>  0.190672</td>\n",
       "      <td>  0.039486</td>\n",
       "      <td>  0.000000</td>\n",
       "      <td>  1.075000</td>\n",
       "      <td>  0.000000</td>\n",
       "      <td>  0.000000</td>\n",
       "      <td>  0.000303</td>\n",
       "      <td>  0.000000</td>\n",
       "    </tr>\n",
       "    <tr>\n",
       "      <th>25%</th>\n",
       "      <td>  0.374831</td>\n",
       "      <td>  5310.250000</td>\n",
       "      <td>  0.334080</td>\n",
       "      <td>  0.097404</td>\n",
       "      <td>  0.006529</td>\n",
       "      <td>  3.427251</td>\n",
       "      <td>  0.002836</td>\n",
       "      <td>  0.000000</td>\n",
       "      <td>  0.004162</td>\n",
       "      <td>  0.005719</td>\n",
       "    </tr>\n",
       "    <tr>\n",
       "      <th>50%</th>\n",
       "      <td>  0.571915</td>\n",
       "      <td>  7612.000000</td>\n",
       "      <td>  0.372541</td>\n",
       "      <td>  0.121354</td>\n",
       "      <td>  0.026295</td>\n",
       "      <td>  4.449858</td>\n",
       "      <td>  0.009034</td>\n",
       "      <td>  0.000000</td>\n",
       "      <td>  0.010593</td>\n",
       "      <td>  0.016340</td>\n",
       "    </tr>\n",
       "    <tr>\n",
       "      <th>75%</th>\n",
       "      <td>  0.955057</td>\n",
       "      <td> 11372.000000</td>\n",
       "      <td>  0.397369</td>\n",
       "      <td>  0.172988</td>\n",
       "      <td>  0.060091</td>\n",
       "      <td>  5.429757</td>\n",
       "      <td>  0.029412</td>\n",
       "      <td>  0.023810</td>\n",
       "      <td>  0.031174</td>\n",
       "      <td>  0.033497</td>\n",
       "    </tr>\n",
       "    <tr>\n",
       "      <th>max</th>\n",
       "      <td>  1.616392</td>\n",
       "      <td> 32465.000000</td>\n",
       "      <td>  0.469926</td>\n",
       "      <td>  0.292654</td>\n",
       "      <td>  0.213179</td>\n",
       "      <td>  8.670287</td>\n",
       "      <td>  0.127311</td>\n",
       "      <td>  0.123810</td>\n",
       "      <td>  0.087772</td>\n",
       "      <td>  0.107843</td>\n",
       "    </tr>\n",
       "  </tbody>\n",
       "</table>\n",
       "</div>"
      ],
      "text/plain": [
       "       Avg_Dist_Metro_KM  Avg_Ridership  Avg_Percent_Public_Transit  \\\n",
       "count          40.000000      40.000000                   40.000000   \n",
       "mean            0.675135   10424.750000                    0.359130   \n",
       "std             0.353901    7948.993578                    0.067318   \n",
       "min             0.175926    1664.000000                    0.190672   \n",
       "25%             0.374831    5310.250000                    0.334080   \n",
       "50%             0.571915    7612.000000                    0.372541   \n",
       "75%             0.955057   11372.000000                    0.397369   \n",
       "max             1.616392   32465.000000                    0.469926   \n",
       "\n",
       "       Avg_Percent_Vacant_Houses  Avg_Percent_Below_Poverty  \\\n",
       "count                  40.000000                  40.000000   \n",
       "mean                    0.137428                   0.044706   \n",
       "std                     0.056496                   0.051432   \n",
       "min                     0.039486                   0.000000   \n",
       "25%                     0.097404                   0.006529   \n",
       "50%                     0.121354                   0.026295   \n",
       "75%                     0.172988                   0.060091   \n",
       "max                     0.292654                   0.213179   \n",
       "\n",
       "       Avg_Median_Home_Value  AssaultRate  HomicideRate  RobberyRate  \\\n",
       "count              40.000000    40.000000     40.000000    40.000000   \n",
       "mean                4.639665     0.022227      0.021429     0.022775   \n",
       "std                 1.725190     0.028809      0.034152     0.024425   \n",
       "min                 1.075000     0.000000      0.000000     0.000303   \n",
       "25%                 3.427251     0.002836      0.000000     0.004162   \n",
       "50%                 4.449858     0.009034      0.000000     0.010593   \n",
       "75%                 5.429757     0.029412      0.023810     0.031174   \n",
       "max                 8.670287     0.127311      0.123810     0.087772   \n",
       "\n",
       "        RapeRate  \n",
       "count  40.000000  \n",
       "mean    0.023366  \n",
       "std     0.023803  \n",
       "min     0.000000  \n",
       "25%     0.005719  \n",
       "50%     0.016340  \n",
       "75%     0.033497  \n",
       "max     0.107843  "
      ]
     },
     "execution_count": 2,
     "metadata": {},
     "output_type": "execute_result"
    }
   ],
   "source": [
    "# Import data to be used for multiple regression\n",
    "\n",
    "import pandas as pd\n",
    "\n",
    "crime_summary = pd.read_csv(\"CrimeEventMultReg.csv\")\n",
    "\n",
    "# Summarize data\n",
    "\n",
    "crime_summary.describe()"
   ]
  },
  {
   "cell_type": "markdown",
   "metadata": {},
   "source": [
    "Run the regression in R..."
   ]
  },
  {
   "cell_type": "code",
   "execution_count": 9,
   "metadata": {
    "collapsed": false
   },
   "outputs": [
    {
     "name": "stdout",
     "output_type": "stream",
     "text": [
      "Populating the interactive namespace from numpy and matplotlib\n",
      "The rpy2.ipython extension is already loaded. To reload it, use:\n",
      "  %reload_ext rpy2.ipython\n"
     ]
    },
    {
     "data": {
      "text/plain": [
       "<ListVector - Python:0x10a6e7908 / R:0x10890ebf0>\n",
       "[Float..., Array, Array, ..., Vector, Formula, DataF...]\n",
       "  coefficients: <class 'rpy2.robjects.vectors.FloatVector'>\n",
       "  <FloatVector - Python:0x10a6f33b0 / R:0x108475950>\n",
       "[-0.012405, 0.029163, 0.000000, ..., 0.015429, 0.247343, -0.000611]\n",
       "  residuals: <class 'rpy2.robjects.vectors.Array'>\n",
       "  <Array - Python:0x10a633fc8 / R:0x10a14eee0>\n",
       "[-0.022922, -0.000004, 0.017131, ..., -0.012065, -0.013255, -0.010495]\n",
       "  effects: <class 'rpy2.robjects.vectors.Array'>\n",
       "  <Array - Python:0x10a633ef0 / R:0x10a14f330>\n",
       "[-0.147780, 0.097167, 0.000879, ..., -0.007381, -0.008693, -0.008703]\n",
       "  ...\n",
       "  coefficients: <class 'rpy2.robjects.vectors.Vector'>\n",
       "  <Vector - Python:0x10a633c68 / R:0x100bdfb08>\n",
       "[RNULLType, Vector]\n",
       "  residuals: <class 'rpy2.robjects.Formula'>\n",
       "  <Formula - Python:0x10a633b00 / R:0x101bcfcb0>\n",
       "<ListVector - Python:0x10a6e7908 / R:0x10890ebf0>\n",
       "[Float..., Array, Array, ..., Vector, Formula, DataF...]"
      ]
     },
     "execution_count": 9,
     "metadata": {},
     "output_type": "execute_result"
    }
   ],
   "source": [
    "# Make sure you have run \"pip install rpy2\" on the command line prior to running this code\n",
    "\n",
    "%pylab inline\n",
    "%load_ext rpy2.ipython\n",
    "\n",
    "AssaultRate = crime_summary['AssaultRate']\n",
    "HomicideRate = crime_summary['HomicideRate']\n",
    "RobberyRate = crime_summary['RobberyRate']\n",
    "RapeRate = crime_summary['RapeRate']\n",
    "\n",
    "Avg_Dist_Metro_KM = crime_summary['Avg_Dist_Metro_KM']\n",
    "Avg_Ridership = crime_summary['Avg_Ridership']\n",
    "Avg_Percent_Public_Transit = crime_summary['Avg_Percent_Public_Transit']\n",
    "Avg_Percent_Vacant_Houses = crime_summary['Avg_Percent_Vacant_Houses']\n",
    "Avg_Percent_Below_Poverty = crime_summary['Avg_Percent_Below_Poverty']\n",
    "Avg_Median_Home_Value = crime_summary['Avg_Median_Home_Value']\n",
    "\n",
    "%Rpush AssaultRate HomicideRate RobberyRate RapeRate Avg_Dist_Metro_KM Avg_Ridership Avg_Percent_Public_Transit Avg_Percent_Vacant_Houses Avg_Percent_Below_Poverty Avg_Median_Home_Value \n",
    "%R assault_model <- lm(AssaultRate ~ Avg_Dist_Metro_KM + Avg_Ridership + Avg_Percent_Public_Transit + Avg_Percent_Vacant_Houses + Avg_Percent_Below_Poverty + Avg_Median_Home_Value)\n",
    "%R homicide_model <- lm(HomicideRate ~ Avg_Dist_Metro_KM + Avg_Ridership + Avg_Percent_Public_Transit + Avg_Percent_Vacant_Houses + Avg_Percent_Below_Poverty + Avg_Median_Home_Value)\n",
    "%R robbery_model <- lm(RobberyRate ~ Avg_Dist_Metro_KM + Avg_Ridership + Avg_Percent_Public_Transit + Avg_Percent_Vacant_Houses + Avg_Percent_Below_Poverty + Avg_Median_Home_Value)\n",
    "%R rape_model <- lm(RapeRate ~ Avg_Dist_Metro_KM + Avg_Ridership + Avg_Percent_Public_Transit + Avg_Percent_Vacant_Houses + Avg_Percent_Below_Poverty + Avg_Median_Home_Value)"
   ]
  },
  {
   "cell_type": "markdown",
   "metadata": {},
   "source": [
    "The summary of the linear model for assaults shows that average distance to metro and average percent below the poverty line are related to the assault rate."
   ]
  },
  {
   "cell_type": "code",
   "execution_count": 10,
   "metadata": {
    "collapsed": false
   },
   "outputs": [
    {
     "data": {
      "text/plain": [
       "\n",
       "Call:\n",
       "lm(formula = AssaultRate ~ Avg_Dist_Metro_KM + Avg_Ridership + \n",
       "    Avg_Percent_Public_Transit + Avg_Percent_Vacant_Houses + \n",
       "    Avg_Percent_Below_Poverty + Avg_Median_Home_Value)\n",
       "\n",
       "Residuals:\n",
       "      Min        1Q    Median        3Q       Max \n",
       "-0.028542 -0.009680 -0.002397  0.008812  0.029578 \n",
       "\n",
       "Coefficients:\n",
       "                             Estimate Std. Error t value Pr(>|t|)    \n",
       "(Intercept)                -4.073e-02  3.448e-02  -1.181 0.245966    \n",
       "Avg_Dist_Metro_KM           3.976e-02  1.050e-02   3.786 0.000616 ***\n",
       "Avg_Ridership               2.869e-07  4.012e-07   0.715 0.479639    \n",
       "Avg_Percent_Public_Transit  4.308e-02  5.441e-02   0.792 0.434092    \n",
       "Avg_Percent_Vacant_Houses   9.884e-02  6.584e-02   1.501 0.142827    \n",
       "Avg_Percent_Below_Poverty   2.449e-01  8.061e-02   3.039 0.004623 ** \n",
       "Avg_Median_Home_Value      -1.483e-03  2.333e-03  -0.636 0.529296    \n",
       "---\n",
       "Signif. codes:  0 ‘***’ 0.001 ‘**’ 0.01 ‘*’ 0.05 ‘.’ 0.1 ‘ ’ 1\n",
       "\n",
       "Residual standard error: 0.0157 on 33 degrees of freedom\n",
       "Multiple R-squared:  0.7488,\tAdjusted R-squared:  0.7031 \n",
       "F-statistic: 16.39 on 6 and 33 DF,  p-value: 1.19e-08\n",
       "\n"
      ]
     },
     "metadata": {},
     "output_type": "display_data"
    }
   ],
   "source": [
    "%R print(summary(assault_model))"
   ]
  },
  {
   "cell_type": "markdown",
   "metadata": {},
   "source": [
    "The summary of the linear model for homicides shows that the average percent below the poverty line is related to the homicide rate."
   ]
  },
  {
   "cell_type": "code",
   "execution_count": 11,
   "metadata": {
    "collapsed": false
   },
   "outputs": [
    {
     "data": {
      "text/plain": [
       "\n",
       "Call:\n",
       "lm(formula = HomicideRate ~ Avg_Dist_Metro_KM + Avg_Ridership + \n",
       "    Avg_Percent_Public_Transit + Avg_Percent_Vacant_Houses + \n",
       "    Avg_Percent_Below_Poverty + Avg_Median_Home_Value)\n",
       "\n",
       "Residuals:\n",
       "      Min        1Q    Median        3Q       Max \n",
       "-0.025402 -0.010804 -0.000566  0.007486  0.041529 \n",
       "\n",
       "Coefficients:\n",
       "                             Estimate Std. Error t value Pr(>|t|)    \n",
       "(Intercept)                -6.937e-02  3.605e-02  -1.924    0.063 .  \n",
       "Avg_Dist_Metro_KM           1.051e-02  1.098e-02   0.957    0.346    \n",
       "Avg_Ridership               4.098e-07  4.195e-07   0.977    0.336    \n",
       "Avg_Percent_Public_Transit  6.638e-02  5.688e-02   1.167    0.252    \n",
       "Avg_Percent_Vacant_Houses   1.106e-01  6.884e-02   1.606    0.118    \n",
       "Avg_Percent_Below_Poverty   5.851e-01  8.428e-02   6.942 6.21e-08 ***\n",
       "Avg_Median_Home_Value       3.071e-03  2.439e-03   1.259    0.217    \n",
       "---\n",
       "Signif. codes:  0 ‘***’ 0.001 ‘**’ 0.01 ‘*’ 0.05 ‘.’ 0.1 ‘ ’ 1\n",
       "\n",
       "Residual standard error: 0.01641 on 33 degrees of freedom\n",
       "Multiple R-squared:  0.8046,\tAdjusted R-squared:  0.7691 \n",
       "F-statistic: 22.65 on 6 and 33 DF,  p-value: 2.152e-10\n",
       "\n"
      ]
     },
     "metadata": {},
     "output_type": "display_data"
    }
   ],
   "source": [
    "%R print(summary(homicide_model))"
   ]
  },
  {
   "cell_type": "markdown",
   "metadata": {},
   "source": [
    "The summary of the linear model for robberies shows that average distance to metro and average percent below the poverty line are related to the assault rate."
   ]
  },
  {
   "cell_type": "code",
   "execution_count": 12,
   "metadata": {
    "collapsed": false
   },
   "outputs": [
    {
     "data": {
      "text/plain": [
       "\n",
       "Call:\n",
       "lm(formula = RobberyRate ~ Avg_Dist_Metro_KM + Avg_Ridership + \n",
       "    Avg_Percent_Public_Transit + Avg_Percent_Vacant_Houses + \n",
       "    Avg_Percent_Below_Poverty + Avg_Median_Home_Value)\n",
       "\n",
       "Residuals:\n",
       "      Min        1Q    Median        3Q       Max \n",
       "-0.025861 -0.012134 -0.001541  0.010073  0.038742 \n",
       "\n",
       "Coefficients:\n",
       "                             Estimate Std. Error t value Pr(>|t|)  \n",
       "(Intercept)                -2.825e-02  3.635e-02  -0.777   0.4425  \n",
       "Avg_Dist_Metro_KM           2.701e-02  1.107e-02   2.439   0.0203 *\n",
       "Avg_Ridership               1.669e-07  4.230e-07   0.395   0.6956  \n",
       "Avg_Percent_Public_Transit  5.304e-02  5.736e-02   0.925   0.3618  \n",
       "Avg_Percent_Vacant_Houses   4.528e-02  6.941e-02   0.652   0.5187  \n",
       "Avg_Percent_Below_Poverty   1.996e-01  8.498e-02   2.348   0.0250 *\n",
       "Avg_Median_Home_Value      -6.760e-04  2.459e-03  -0.275   0.7851  \n",
       "---\n",
       "Signif. codes:  0 ‘***’ 0.001 ‘**’ 0.01 ‘*’ 0.05 ‘.’ 0.1 ‘ ’ 1\n",
       "\n",
       "Residual standard error: 0.01655 on 33 degrees of freedom\n",
       "Multiple R-squared:  0.6116,\tAdjusted R-squared:  0.541 \n",
       "F-statistic:  8.66 on 6 and 33 DF,  p-value: 1.089e-05\n",
       "\n"
      ]
     },
     "metadata": {},
     "output_type": "display_data"
    }
   ],
   "source": [
    "%R print(summary(robbery_model))"
   ]
  },
  {
   "cell_type": "markdown",
   "metadata": {},
   "source": [
    "The summary of the linear model for rape shows that average distance to metro and average percent below the poverty line are related to the assault rate."
   ]
  },
  {
   "cell_type": "code",
   "execution_count": 13,
   "metadata": {
    "collapsed": false
   },
   "outputs": [
    {
     "data": {
      "text/plain": [
       "\n",
       "Call:\n",
       "lm(formula = RapeRate ~ Avg_Dist_Metro_KM + Avg_Ridership + Avg_Percent_Public_Transit + \n",
       "    Avg_Percent_Vacant_Houses + Avg_Percent_Below_Poverty + Avg_Median_Home_Value)\n",
       "\n",
       "Residuals:\n",
       "      Min        1Q    Median        3Q       Max \n",
       "-0.022922 -0.011665 -0.000735  0.007573  0.034482 \n",
       "\n",
       "Coefficients:\n",
       "                             Estimate Std. Error t value Pr(>|t|)   \n",
       "(Intercept)                -1.241e-02  3.320e-02  -0.374  0.71108   \n",
       "Avg_Dist_Metro_KM           2.916e-02  1.011e-02   2.884  0.00687 **\n",
       "Avg_Ridership               4.005e-07  3.864e-07   1.036  0.30751   \n",
       "Avg_Percent_Public_Transit  4.362e-03  5.239e-02   0.083  0.93415   \n",
       "Avg_Percent_Vacant_Houses   1.543e-02  6.340e-02   0.243  0.80925   \n",
       "Avg_Percent_Below_Poverty   2.473e-01  7.763e-02   3.186  0.00314 **\n",
       "Avg_Median_Home_Value      -6.114e-04  2.247e-03  -0.272  0.78721   \n",
       "---\n",
       "Signif. codes:  0 ‘***’ 0.001 ‘**’ 0.01 ‘*’ 0.05 ‘.’ 0.1 ‘ ’ 1\n",
       "\n",
       "Residual standard error: 0.01512 on 33 degrees of freedom\n",
       "Multiple R-squared:  0.6587,\tAdjusted R-squared:  0.5967 \n",
       "F-statistic: 10.62 on 6 and 33 DF,  p-value: 1.472e-06\n",
       "\n"
      ]
     },
     "metadata": {},
     "output_type": "display_data"
    }
   ],
   "source": [
    "%R print(summary(rape_model))"
   ]
  },
  {
   "cell_type": "code",
   "execution_count": 2,
   "metadata": {
    "collapsed": false
   },
   "outputs": [
    {
     "data": {
      "text/html": [
       "<iframe width=\"940\" height=\"600\" frameborder=\"0\" scrolling=\"no\" marginheight=\"0\" marginwidth=\"0\" src=\"http://www.arcgis.com/apps/Embed/index.html?webmap=c84cfb5536f540ac810cd7d7860d99e5&amp;extent=-77.2227,38.8097,-76.8182,38.9866&amp;home=true&amp;zoom=true&amp;scale=true&amp;legend=true&amp;theme=light\"></iframe>"
      ],
      "text/plain": [
       "<IPython.core.display.HTML object>"
      ]
     },
     "metadata": {},
     "output_type": "display_data"
    }
   ],
   "source": [
    "%%html\n",
    "<iframe width=\"940\" height=\"600\" frameborder=\"0\" scrolling=\"no\" marginheight=\"0\" marginwidth=\"0\" src=\"http://www.arcgis.com/apps/Embed/index.html?webmap=c84cfb5536f540ac810cd7d7860d99e5&amp;extent=-77.2227,38.8097,-76.8182,38.9866&amp;home=true&amp;zoom=true&amp;scale=true&amp;legend=true&amp;theme=light\"></iframe>"
   ]
  },
  {
   "cell_type": "code",
   "execution_count": null,
   "metadata": {
    "collapsed": true
   },
   "outputs": [],
   "source": []
  }
 ],
 "metadata": {
  "kernelspec": {
   "display_name": "Python 2",
   "language": "python",
   "name": "python2"
  },
  "language_info": {
   "codemirror_mode": {
    "name": "ipython",
    "version": 2
   },
   "file_extension": ".py",
   "mimetype": "text/x-python",
   "name": "python",
   "nbconvert_exporter": "python",
   "pygments_lexer": "ipython2",
   "version": "2.7.9"
  }
 },
 "nbformat": 4,
 "nbformat_minor": 0
}
